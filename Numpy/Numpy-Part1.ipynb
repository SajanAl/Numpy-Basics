{
 "cells": [
  {
   "cell_type": "markdown",
   "id": "1702f5e2",
   "metadata": {},
   "source": [
    "# Numpy Basics"
   ]
  },
  {
   "cell_type": "code",
   "execution_count": null,
   "id": "1dbeef32",
   "metadata": {},
   "outputs": [],
   "source": [
    "import numpy as np"
   ]
  },
  {
   "cell_type": "code",
   "execution_count": 2,
   "id": "4c88929f",
   "metadata": {},
   "outputs": [],
   "source": [
    "n=np.array([1,2,3,4])\n",
    "a2=np.array([[2,3],[6,7]])\n",
    "a3=np.array([[5,6],[8,7]])\n",
    "a=np.array([[5,6,7,8],[9,10,11,12],[13,2,3,4]])\n",
    "b=np.array([2.4,1.5,6.4],dtype=complex)\n",
    "o=np.zeros((3,3))\n",
    "a1=np.ones((3,3))\n"
   ]
  },
  {
   "cell_type": "code",
   "execution_count": 116,
   "id": "f3017932",
   "metadata": {},
   "outputs": [
    {
     "data": {
      "text/plain": [
       "13"
      ]
     },
     "execution_count": 116,
     "metadata": {},
     "output_type": "execute_result"
    }
   ],
   "source": [
    "#index give \n",
    "a[2][0]"
   ]
  },
  {
   "cell_type": "code",
   "execution_count": 117,
   "id": "d7baabed",
   "metadata": {},
   "outputs": [
    {
     "data": {
      "text/plain": [
       "2"
      ]
     },
     "execution_count": 117,
     "metadata": {},
     "output_type": "execute_result"
    }
   ],
   "source": [
    "#print dimension\n",
    "a.ndim"
   ]
  },
  {
   "cell_type": "code",
   "execution_count": 118,
   "id": "26f3a497",
   "metadata": {},
   "outputs": [
    {
     "data": {
      "text/plain": [
       "1"
      ]
     },
     "execution_count": 118,
     "metadata": {},
     "output_type": "execute_result"
    }
   ],
   "source": [
    "n.ndim"
   ]
  },
  {
   "cell_type": "code",
   "execution_count": 119,
   "id": "8cc3ba0c",
   "metadata": {},
   "outputs": [
    {
     "data": {
      "text/plain": [
       "4"
      ]
     },
     "execution_count": 119,
     "metadata": {},
     "output_type": "execute_result"
    }
   ],
   "source": [
    "#print size of array int,float ,etc\n",
    "n.itemsize"
   ]
  },
  {
   "cell_type": "code",
   "execution_count": 120,
   "id": "5bf52b41",
   "metadata": {},
   "outputs": [
    {
     "data": {
      "text/plain": [
       "16"
      ]
     },
     "execution_count": 120,
     "metadata": {},
     "output_type": "execute_result"
    }
   ],
   "source": [
    "b.itemsize"
   ]
  },
  {
   "cell_type": "code",
   "execution_count": 121,
   "id": "cefae055",
   "metadata": {},
   "outputs": [
    {
     "data": {
      "text/plain": [
       "3"
      ]
     },
     "execution_count": 121,
     "metadata": {},
     "output_type": "execute_result"
    }
   ],
   "source": [
    "#print how many number in array\n",
    "b.size"
   ]
  },
  {
   "cell_type": "code",
   "execution_count": 122,
   "id": "3890b54b",
   "metadata": {},
   "outputs": [
    {
     "data": {
      "text/plain": [
       "(3, 4)"
      ]
     },
     "execution_count": 122,
     "metadata": {},
     "output_type": "execute_result"
    }
   ],
   "source": [
    "#print row and column\n",
    "a.shape"
   ]
  },
  {
   "cell_type": "code",
   "execution_count": 123,
   "id": "db03e975",
   "metadata": {},
   "outputs": [
    {
     "data": {
      "text/plain": [
       "array([2.4+0.j, 1.5+0.j, 6.4+0.j])"
      ]
     },
     "execution_count": 123,
     "metadata": {},
     "output_type": "execute_result"
    }
   ],
   "source": [
    "b"
   ]
  },
  {
   "cell_type": "code",
   "execution_count": 124,
   "id": "f3261c38",
   "metadata": {},
   "outputs": [
    {
     "data": {
      "text/plain": [
       "array([[0., 0., 0.],\n",
       "       [0., 0., 0.],\n",
       "       [0., 0., 0.]])"
      ]
     },
     "execution_count": 124,
     "metadata": {},
     "output_type": "execute_result"
    }
   ],
   "source": [
    "o"
   ]
  },
  {
   "cell_type": "code",
   "execution_count": 125,
   "id": "b11b1799",
   "metadata": {},
   "outputs": [
    {
     "data": {
      "text/plain": [
       "array([[1., 1., 1.],\n",
       "       [1., 1., 1.],\n",
       "       [1., 1., 1.]])"
      ]
     },
     "execution_count": 125,
     "metadata": {},
     "output_type": "execute_result"
    }
   ],
   "source": [
    "a1"
   ]
  },
  {
   "cell_type": "code",
   "execution_count": 126,
   "id": "b019267d",
   "metadata": {},
   "outputs": [
    {
     "data": {
      "text/plain": [
       "range(0, 5)"
      ]
     },
     "execution_count": 126,
     "metadata": {},
     "output_type": "execute_result"
    }
   ],
   "source": [
    "#give range in list\n",
    "l=range(5)\n",
    "l"
   ]
  },
  {
   "cell_type": "code",
   "execution_count": 127,
   "id": "8d9d39b4",
   "metadata": {},
   "outputs": [
    {
     "data": {
      "text/plain": [
       "2"
      ]
     },
     "execution_count": 127,
     "metadata": {},
     "output_type": "execute_result"
    }
   ],
   "source": [
    "l[2]"
   ]
  },
  {
   "cell_type": "code",
   "execution_count": 141,
   "id": "bef09895",
   "metadata": {},
   "outputs": [
    {
     "data": {
      "text/plain": [
       "array([1, 2, 3, 4])"
      ]
     },
     "execution_count": 141,
     "metadata": {},
     "output_type": "execute_result"
    }
   ],
   "source": [
    "#give range in array\n",
    "np.arange(1,5)\n"
   ]
  },
  {
   "cell_type": "code",
   "execution_count": 143,
   "id": "d4009995",
   "metadata": {},
   "outputs": [
    {
     "data": {
      "text/plain": [
       "array([1, 3, 5, 7, 9])"
      ]
     },
     "execution_count": 143,
     "metadata": {},
     "output_type": "execute_result"
    }
   ],
   "source": [
    "np.arange(1,10,2) # number of steps\n"
   ]
  },
  {
   "cell_type": "code",
   "execution_count": 144,
   "id": "efdd386a",
   "metadata": {},
   "outputs": [
    {
     "data": {
      "text/plain": [
       "array([1.        , 1.44444444, 1.88888889, 2.33333333, 2.77777778,\n",
       "       3.22222222, 3.66666667, 4.11111111, 4.55555556, 5.        ])"
      ]
     },
     "execution_count": 144,
     "metadata": {},
     "output_type": "execute_result"
    }
   ],
   "source": [
    "np.linspace(1,5,10) #number of print number"
   ]
  },
  {
   "cell_type": "code",
   "execution_count": 131,
   "id": "b12f6307",
   "metadata": {},
   "outputs": [
    {
     "data": {
      "text/plain": [
       "array([[ 5,  6,  7],\n",
       "       [ 8,  9, 10],\n",
       "       [11, 12, 13],\n",
       "       [ 2,  3,  4]])"
      ]
     },
     "execution_count": 131,
     "metadata": {},
     "output_type": "execute_result"
    }
   ],
   "source": [
    "#reshape the matrix\n",
    "a.reshape(4,3)"
   ]
  },
  {
   "cell_type": "code",
   "execution_count": 145,
   "id": "01a1756c",
   "metadata": {},
   "outputs": [
    {
     "data": {
      "text/plain": [
       "13"
      ]
     },
     "execution_count": 145,
     "metadata": {},
     "output_type": "execute_result"
    }
   ],
   "source": [
    "#print maximum number in array\n",
    "a.max()"
   ]
  },
  {
   "cell_type": "code",
   "execution_count": 146,
   "id": "968387fd",
   "metadata": {},
   "outputs": [
    {
     "data": {
      "text/plain": [
       "2"
      ]
     },
     "execution_count": 146,
     "metadata": {},
     "output_type": "execute_result"
    }
   ],
   "source": [
    "#print minimum number in array\n",
    "a.min()"
   ]
  },
  {
   "cell_type": "code",
   "execution_count": 147,
   "id": "e0b34f89",
   "metadata": {},
   "outputs": [
    {
     "data": {
      "text/plain": [
       "10"
      ]
     },
     "execution_count": 147,
     "metadata": {},
     "output_type": "execute_result"
    }
   ],
   "source": [
    "#sum array value\n",
    "n.sum()"
   ]
  },
  {
   "cell_type": "code",
   "execution_count": 188,
   "id": "0a7cab68",
   "metadata": {},
   "outputs": [
    {
     "data": {
      "text/plain": [
       "array([ 8, 10, 13])"
      ]
     },
     "execution_count": 188,
     "metadata": {},
     "output_type": "execute_result"
    }
   ],
   "source": [
    "a2.sum(axis=0) #axis=0 sum column or verticale"
   ]
  },
  {
   "cell_type": "code",
   "execution_count": 186,
   "id": "e221da3b",
   "metadata": {},
   "outputs": [
    {
     "data": {
      "text/plain": [
       "array([10, 21])"
      ]
     },
     "execution_count": 186,
     "metadata": {},
     "output_type": "execute_result"
    }
   ],
   "source": [
    "a2.sum(axis=1)"
   ]
  },
  {
   "cell_type": "code",
   "execution_count": 197,
   "id": "e4e7e70d",
   "metadata": {},
   "outputs": [
    {
     "data": {
      "text/plain": [
       "array([[9, 2, 3],\n",
       "       [4, 5, 6],\n",
       "       [7, 8, 9]])"
      ]
     },
     "execution_count": 197,
     "metadata": {},
     "output_type": "execute_result"
    }
   ],
   "source": [
    "a0=np.array([[9,2,3],[4,5,6],[7,8,9]])\n",
    "a0"
   ]
  },
  {
   "cell_type": "code",
   "execution_count": 198,
   "id": "c8b5fc58",
   "metadata": {},
   "outputs": [
    {
     "data": {
      "text/plain": [
       "-24.000000000000068"
      ]
     },
     "execution_count": 198,
     "metadata": {},
     "output_type": "execute_result"
    }
   ],
   "source": [
    "#take the deteminant\n",
    "d=np.linalg.det(a0)\n",
    "d"
   ]
  },
  {
   "cell_type": "code",
   "execution_count": 199,
   "id": "8f36a228",
   "metadata": {},
   "outputs": [
    {
     "data": {
      "text/plain": [
       "array([[3.        , 1.41421356, 1.73205081],\n",
       "       [2.        , 2.23606798, 2.44948974],\n",
       "       [2.64575131, 2.82842712, 3.        ]])"
      ]
     },
     "execution_count": 199,
     "metadata": {},
     "output_type": "execute_result"
    }
   ],
   "source": [
    "#taking sqaure root in array elements\n",
    "np.sqrt(a0)\n"
   ]
  },
  {
   "cell_type": "code",
   "execution_count": 200,
   "id": "346fb43e",
   "metadata": {},
   "outputs": [
    {
     "data": {
      "text/plain": [
       "2.4241582476968255"
      ]
     },
     "execution_count": 200,
     "metadata": {},
     "output_type": "execute_result"
    }
   ],
   "source": [
    "#standard derivation\n",
    "np.std(a0)"
   ]
  },
  {
   "cell_type": "code",
   "execution_count": 222,
   "id": "f1e6f06a",
   "metadata": {},
   "outputs": [
    {
     "data": {
      "text/plain": [
       "array([[5, 6],\n",
       "       [8, 7]])"
      ]
     },
     "execution_count": 222,
     "metadata": {},
     "output_type": "execute_result"
    }
   ],
   "source": [
    "a3"
   ]
  },
  {
   "cell_type": "code",
   "execution_count": 223,
   "id": "5a7e815e",
   "metadata": {},
   "outputs": [
    {
     "data": {
      "text/plain": [
       "array([[ 7,  9],\n",
       "       [14, 14]])"
      ]
     },
     "execution_count": 223,
     "metadata": {},
     "output_type": "execute_result"
    }
   ],
   "source": [
    "#sum both matrix elements\n",
    "a2+a3"
   ]
  },
  {
   "cell_type": "code",
   "execution_count": 224,
   "id": "edfb0338",
   "metadata": {},
   "outputs": [
    {
     "data": {
      "text/plain": [
       "array([[3, 3],\n",
       "       [2, 0]])"
      ]
     },
     "execution_count": 224,
     "metadata": {},
     "output_type": "execute_result"
    }
   ],
   "source": [
    "#minus both matrix elements\n",
    "a3-a2"
   ]
  },
  {
   "cell_type": "code",
   "execution_count": 225,
   "id": "9469d22c",
   "metadata": {},
   "outputs": [
    {
     "data": {
      "text/plain": [
       "array([[10, 18],\n",
       "       [48, 49]])"
      ]
     },
     "execution_count": 225,
     "metadata": {},
     "output_type": "execute_result"
    }
   ],
   "source": [
    "#multiply both matrix elements\n",
    "a2*a3"
   ]
  },
  {
   "cell_type": "code",
   "execution_count": 226,
   "id": "cc647a2c",
   "metadata": {},
   "outputs": [
    {
     "data": {
      "text/plain": [
       "array([[0.4 , 0.5 ],\n",
       "       [0.75, 1.  ]])"
      ]
     },
     "execution_count": 226,
     "metadata": {},
     "output_type": "execute_result"
    }
   ],
   "source": [
    "#division both matrix elements\n",
    "a2/a3"
   ]
  },
  {
   "cell_type": "code",
   "execution_count": 227,
   "id": "795fdd42",
   "metadata": {},
   "outputs": [
    {
     "data": {
      "text/plain": [
       "array([[34, 33],\n",
       "       [86, 85]])"
      ]
     },
     "execution_count": 227,
     "metadata": {},
     "output_type": "execute_result"
    }
   ],
   "source": [
    "#product of matrix\n",
    "a2.dot(a3)"
   ]
  },
  {
   "cell_type": "code",
   "execution_count": 3,
   "id": "b7854350",
   "metadata": {},
   "outputs": [
    {
     "data": {
      "text/plain": [
       "array([[ 5,  6,  7,  8],\n",
       "       [ 9, 10, 11, 12],\n",
       "       [13,  2,  3,  4]])"
      ]
     },
     "execution_count": 3,
     "metadata": {},
     "output_type": "execute_result"
    }
   ],
   "source": [
    "#numpy slicing/stacking and indexing with boolean array\n",
    "a"
   ]
  },
  {
   "cell_type": "code",
   "execution_count": 4,
   "id": "f420bde1",
   "metadata": {},
   "outputs": [
    {
     "data": {
      "text/plain": [
       "7"
      ]
     },
     "execution_count": 4,
     "metadata": {},
     "output_type": "execute_result"
    }
   ],
   "source": [
    "a[0,2]"
   ]
  },
  {
   "cell_type": "code",
   "execution_count": 7,
   "id": "42c031b9",
   "metadata": {},
   "outputs": [
    {
     "data": {
      "text/plain": [
       "array([ 7, 11])"
      ]
     },
     "execution_count": 7,
     "metadata": {},
     "output_type": "execute_result"
    }
   ],
   "source": [
    "a[0:2,2]"
   ]
  },
  {
   "cell_type": "code",
   "execution_count": 8,
   "id": "a99c5c30",
   "metadata": {},
   "outputs": [
    {
     "data": {
      "text/plain": [
       "array([13,  2,  3,  4])"
      ]
     },
     "execution_count": 8,
     "metadata": {},
     "output_type": "execute_result"
    }
   ],
   "source": [
    "a[-1]"
   ]
  },
  {
   "cell_type": "code",
   "execution_count": 15,
   "id": "e87fda53",
   "metadata": {},
   "outputs": [
    {
     "data": {
      "text/plain": [
       "array([[ 5,  6],\n",
       "       [ 9, 10],\n",
       "       [13,  2]])"
      ]
     },
     "execution_count": 15,
     "metadata": {},
     "output_type": "execute_result"
    }
   ],
   "source": [
    "a[:,0:2]"
   ]
  },
  {
   "cell_type": "code",
   "execution_count": 16,
   "id": "bb867e9b",
   "metadata": {},
   "outputs": [
    {
     "name": "stdout",
     "output_type": "stream",
     "text": [
      "[5 6 7 8]\n",
      "[ 9 10 11 12]\n",
      "[13  2  3  4]\n"
     ]
    }
   ],
   "source": [
    "for i in a:\n",
    "    print(i)"
   ]
  },
  {
   "cell_type": "code",
   "execution_count": 17,
   "id": "509b1c3c",
   "metadata": {},
   "outputs": [
    {
     "name": "stdout",
     "output_type": "stream",
     "text": [
      "5\n",
      "6\n",
      "7\n",
      "8\n",
      "9\n",
      "10\n",
      "11\n",
      "12\n",
      "13\n",
      "2\n",
      "3\n",
      "4\n"
     ]
    }
   ],
   "source": [
    "for cell in  a.flat:\n",
    "    print(cell)"
   ]
  },
  {
   "cell_type": "code",
   "execution_count": 37,
   "id": "aa834083",
   "metadata": {},
   "outputs": [
    {
     "data": {
      "text/plain": [
       "array([[2, 3],\n",
       "       [6, 7],\n",
       "       [5, 6],\n",
       "       [8, 7]])"
      ]
     },
     "execution_count": 37,
     "metadata": {},
     "output_type": "execute_result"
    }
   ],
   "source": [
    "#add two array in one array\n",
    "w=np.vstack((a2,a3))   #vertical add array\n",
    "w"
   ]
  },
  {
   "cell_type": "code",
   "execution_count": 38,
   "id": "7fd2fe6b",
   "metadata": {},
   "outputs": [
    {
     "data": {
      "text/plain": [
       "array([[2, 3, 5, 6],\n",
       "       [6, 7, 8, 7]])"
      ]
     },
     "execution_count": 38,
     "metadata": {},
     "output_type": "execute_result"
    }
   ],
   "source": [
    "w2=np.hstack((a2,a3)) #horizental add array\n",
    "w2"
   ]
  },
  {
   "cell_type": "code",
   "execution_count": 59,
   "id": "48789d89",
   "metadata": {},
   "outputs": [
    {
     "data": {
      "text/plain": [
       "array([[ 0,  1,  2,  3,  4,  5,  6,  7,  8,  9, 10, 11, 12, 13, 14],\n",
       "       [15, 16, 17, 18, 19, 20, 21, 22, 23, 24, 25, 26, 27, 28, 29]])"
      ]
     },
     "execution_count": 59,
     "metadata": {},
     "output_type": "execute_result"
    }
   ],
   "source": [
    "#horizental break and print\n",
    "s=np.arange(30).reshape(2,15)\n",
    "s"
   ]
  },
  {
   "cell_type": "code",
   "execution_count": 60,
   "id": "f34f1ab1",
   "metadata": {},
   "outputs": [
    {
     "data": {
      "text/plain": [
       "[array([[ 0,  1,  2,  3,  4],\n",
       "        [15, 16, 17, 18, 19]]),\n",
       " array([[ 5,  6,  7,  8,  9],\n",
       "        [20, 21, 22, 23, 24]]),\n",
       " array([[10, 11, 12, 13, 14],\n",
       "        [25, 26, 27, 28, 29]])]"
      ]
     },
     "execution_count": 60,
     "metadata": {},
     "output_type": "execute_result"
    }
   ],
   "source": [
    "result=np.hsplit(s,3) # break in 3 parts\n",
    "result"
   ]
  },
  {
   "cell_type": "code",
   "execution_count": 61,
   "id": "a21cf784",
   "metadata": {},
   "outputs": [
    {
     "data": {
      "text/plain": [
       "array([[ 0,  1,  2,  3,  4],\n",
       "       [15, 16, 17, 18, 19]])"
      ]
     },
     "execution_count": 61,
     "metadata": {},
     "output_type": "execute_result"
    }
   ],
   "source": [
    "result[0] #one part  output"
   ]
  },
  {
   "cell_type": "code",
   "execution_count": 62,
   "id": "31b9c94a",
   "metadata": {},
   "outputs": [
    {
     "data": {
      "text/plain": [
       "array([[10, 11, 12, 13, 14],\n",
       "       [25, 26, 27, 28, 29]])"
      ]
     },
     "execution_count": 62,
     "metadata": {},
     "output_type": "execute_result"
    }
   ],
   "source": [
    "result[2] #third part output"
   ]
  },
  {
   "cell_type": "code",
   "execution_count": 63,
   "id": "8eedd8f3",
   "metadata": {},
   "outputs": [
    {
     "data": {
      "text/plain": [
       "[array([[ 0,  1,  2,  3,  4,  5,  6,  7,  8,  9, 10, 11, 12, 13, 14]]),\n",
       " array([[15, 16, 17, 18, 19, 20, 21, 22, 23, 24, 25, 26, 27, 28, 29]])]"
      ]
     },
     "execution_count": 63,
     "metadata": {},
     "output_type": "execute_result"
    }
   ],
   "source": [
    "#now vertically break and output\n",
    "result2=np.vsplit(s,2)\n",
    "result2"
   ]
  },
  {
   "cell_type": "code",
   "execution_count": 64,
   "id": "cd831884",
   "metadata": {},
   "outputs": [
    {
     "data": {
      "text/plain": [
       "array([[ 0,  1,  2,  3,  4],\n",
       "       [15, 16, 17, 18, 19]])"
      ]
     },
     "execution_count": 64,
     "metadata": {},
     "output_type": "execute_result"
    }
   ],
   "source": [
    "result[0]"
   ]
  },
  {
   "cell_type": "code",
   "execution_count": 66,
   "id": "2fe214e5",
   "metadata": {},
   "outputs": [
    {
     "data": {
      "text/plain": [
       "array([[10, 11, 12, 13, 14],\n",
       "       [25, 26, 27, 28, 29]])"
      ]
     },
     "execution_count": 66,
     "metadata": {},
     "output_type": "execute_result"
    }
   ],
   "source": [
    "result[2]"
   ]
  },
  {
   "cell_type": "code",
   "execution_count": 85,
   "id": "83603874",
   "metadata": {},
   "outputs": [
    {
     "data": {
      "text/plain": [
       "array([[ 0,  1,  2,  3],\n",
       "       [ 4,  5,  6,  7],\n",
       "       [ 8,  9, 10, 11]])"
      ]
     },
     "execution_count": 85,
     "metadata": {},
     "output_type": "execute_result"
    }
   ],
   "source": [
    "b3=np.arange(12).reshape(3,4)\n",
    "b3"
   ]
  },
  {
   "cell_type": "code",
   "execution_count": 86,
   "id": "3be1c8c2",
   "metadata": {},
   "outputs": [
    {
     "data": {
      "text/plain": [
       "array([[False, False, False, False],\n",
       "       [False,  True,  True,  True],\n",
       "       [ True,  True,  True,  True]])"
      ]
     },
     "execution_count": 86,
     "metadata": {},
     "output_type": "execute_result"
    }
   ],
   "source": [
    "b4=b3>4\n",
    "b4"
   ]
  },
  {
   "cell_type": "code",
   "execution_count": 88,
   "id": "99c0cbc4",
   "metadata": {},
   "outputs": [
    {
     "data": {
      "text/plain": [
       "array([ 5,  6,  7,  8,  9, 10, 11])"
      ]
     },
     "execution_count": 88,
     "metadata": {},
     "output_type": "execute_result"
    }
   ],
   "source": [
    "b3[b4]"
   ]
  },
  {
   "cell_type": "code",
   "execution_count": 93,
   "id": "ddfd90a7",
   "metadata": {},
   "outputs": [
    {
     "data": {
      "text/plain": [
       "array([[ 0,  1,  2,  3],\n",
       "       [ 4, -5, -5, -5],\n",
       "       [-5, -5, -5, -5]])"
      ]
     },
     "execution_count": 93,
     "metadata": {},
     "output_type": "execute_result"
    }
   ],
   "source": [
    "b3[b4]=-5\n",
    "b3"
   ]
  },
  {
   "cell_type": "code",
   "execution_count": 95,
   "id": "73fac20e",
   "metadata": {},
   "outputs": [
    {
     "data": {
      "text/plain": [
       "array([[1, 2, 3],\n",
       "       [4, 5, 6],\n",
       "       [7, 8, 9]])"
      ]
     },
     "execution_count": 95,
     "metadata": {},
     "output_type": "execute_result"
    }
   ],
   "source": [
    "#save and load file\n",
    "x=np.array([[1,2,3],[4,5,6],[7,8,9]])\n",
    "x\n"
   ]
  },
  {
   "cell_type": "code",
   "execution_count": 99,
   "id": "5b804a3b",
   "metadata": {},
   "outputs": [],
   "source": [
    "np.savetxt(\"Save.txt\",x)"
   ]
  },
  {
   "cell_type": "code",
   "execution_count": 103,
   "id": "fc793f0a",
   "metadata": {},
   "outputs": [
    {
     "data": {
      "text/plain": [
       "array([[1., 2., 3.],\n",
       "       [4., 5., 6.],\n",
       "       [7., 8., 9.]])"
      ]
     },
     "execution_count": 103,
     "metadata": {},
     "output_type": "execute_result"
    }
   ],
   "source": [
    "y=np.loadtxt('Save.txt')\n",
    "y"
   ]
  },
  {
   "cell_type": "code",
   "execution_count": 105,
   "id": "ff4e1840",
   "metadata": {},
   "outputs": [
    {
     "name": "stdout",
     "output_type": "stream",
     "text": [
      "1\n",
      "2\n",
      "3\n",
      "4\n",
      "5\n",
      "6\n",
      "7\n",
      "8\n",
      "9\n"
     ]
    }
   ],
   "source": [
    "for i in x.flat:\n",
    "    print(i)"
   ]
  },
  {
   "cell_type": "code",
   "execution_count": 3,
   "id": "4829b551",
   "metadata": {},
   "outputs": [
    {
     "data": {
      "text/plain": [
       "9"
      ]
     },
     "execution_count": 3,
     "metadata": {},
     "output_type": "execute_result"
    }
   ],
   "source": [
    "a=np.array([[1,2,3],[5,6,7],[9,10,11]])\n",
    "a1=np.array([[1,2,3],[4,5,6]])\n",
    "a3=np.array([[2,3],[4,5]])\n",
    "a2=np.array([[3,4,5],[7,8,9]])\n",
    "a.ndim\n",
    "a.size\n",
    "# a.itemsize\n",
    "# np.sqrt(a)\n",
    "# np.linspace(1,5,10)\n",
    "# a3.dot(a1)\n",
    "# a.max()\n",
    "# a.min()\n",
    "# a.sum()\n",
    "# a3.sum(axis=0)\n",
    "# a3.sum(axis=1)\n",
    "# np.linalg.det(a)\n",
    "# np.std(a)\n",
    "# np.mean(a)\n",
    "# a1+a2\n",
    "# a2-a1\n",
    "# a2*a1\n",
    "# a1/a2\n",
    "# a[0:3,2]\n",
    "# for i in a:\n",
    "#     print(i)\n",
    "# for c in a.flat:\n",
    "#     print(c)\n",
    "# np.vstack((a1,a2))\n",
    "# s=np.arange(20).reshape(4,5)\n",
    "# result=np.vsplit(s,4)\n",
    "# a4=a>5\n",
    "# a[a4]=-6\n"
   ]
  },
  {
   "cell_type": "code",
   "execution_count": null,
   "id": "46c295bd",
   "metadata": {},
   "outputs": [],
   "source": []
  }
 ],
 "metadata": {
  "kernelspec": {
   "display_name": "Python 3 (ipykernel)",
   "language": "python",
   "name": "python3"
  },
  "language_info": {
   "codemirror_mode": {
    "name": "ipython",
    "version": 3
   },
   "file_extension": ".py",
   "mimetype": "text/x-python",
   "name": "python",
   "nbconvert_exporter": "python",
   "pygments_lexer": "ipython3",
   "version": "3.9.13"
  }
 },
 "nbformat": 4,
 "nbformat_minor": 5
}
